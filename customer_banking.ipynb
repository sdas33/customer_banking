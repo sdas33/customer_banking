{
 "cells": [
  {
   "cell_type": "code",
   "execution_count": 1,
   "id": "0bd41784-fd35-43b6-a6fb-7859217817fa",
   "metadata": {},
   "outputs": [
    {
     "name": "stdout",
     "output_type": "stream",
     "text": [
      "Savings Account\n"
     ]
    },
    {
     "name": "stdout",
     "output_type": "stream",
     "text": [
      "Enter initial balance:  1000\n",
      "Enter annual interest rate (in %):  5\n",
      "Enter number of months:  5\n"
     ]
    },
    {
     "name": "stdout",
     "output_type": "stream",
     "text": [
      "Savings Interest Earned: $20.83\n",
      "Updated Savings Balance: $1020.83\n",
      "\n",
      "CD Account\n"
     ]
    },
    {
     "name": "stdout",
     "output_type": "stream",
     "text": [
      "Enter initial balance:  200\n",
      "Enter annual interest rate (in %):  5\n",
      "Enter number of months:  5\n"
     ]
    },
    {
     "name": "stdout",
     "output_type": "stream",
     "text": [
      "CD Interest Earned: $4.17\n",
      "Updated CD Balance: $204.17\n"
     ]
    }
   ],
   "source": [
    "# Starter Code and Complete Assignment \n",
    "\n",
    "# Define the Account class\n",
    "class Account:\n",
    "    def __init__(self, balance=0.0, interest=0.0):\n",
    "        self.balance = balance\n",
    "        self.interest = interest\n",
    "\n",
    "    def set_balance(self, balance):\n",
    "        self.balance = balance\n",
    "\n",
    "    def set_interest(self, interest):\n",
    "        self.interest = interest\n",
    "\n",
    "    def get_balance(self):\n",
    "        return self.balance\n",
    "\n",
    "    def get_interest(self):\n",
    "        return self.interest\n",
    "\n",
    "# Define the create_savings_account function\n",
    "def create_savings_account(balance, interest_rate, months):\n",
    "    # Create an instance of Account\n",
    "    savings_account = Account(balance, 0.0)\n",
    "    \n",
    "    # Calculate the interest earned\n",
    "    interest_earned = balance * (interest_rate / 100) * months / 12\n",
    "    \n",
    "    # Update balance with the interest\n",
    "    updated_balance = balance + interest_earned\n",
    "    \n",
    "    # Set updated balance and interest earned\n",
    "    savings_account.set_balance(updated_balance)\n",
    "    savings_account.set_interest(interest_earned)\n",
    "    \n",
    "    return updated_balance, interest_earned\n",
    "\n",
    "# Define the create_cd_account function\n",
    "def create_cd_account(balance, interest_rate, months):\n",
    "    # Create an instance of Account\n",
    "    cd_account = Account(balance, 0.0)\n",
    "    \n",
    "    # Calculate the interest earned\n",
    "    interest_earned = balance * (interest_rate / 100) * months / 12\n",
    "    \n",
    "    # Update balance with the interest\n",
    "    updated_balance = balance + interest_earned\n",
    "    \n",
    "    # Set updated balance and interest earned\n",
    "    cd_account.set_balance(updated_balance)\n",
    "    cd_account.set_interest(interest_earned)\n",
    "    \n",
    "    return updated_balance, interest_earned\n",
    "\n",
    "# Main function to interact with the user\n",
    "def main():\n",
    "    # Prompt the user for savings account details\n",
    "    print(\"Savings Account\")\n",
    "    savings_balance = float(input(\"Enter initial balance: \"))\n",
    "    savings_interest_rate = float(input(\"Enter annual interest rate (in %): \"))\n",
    "    savings_months = int(input(\"Enter number of months: \"))\n",
    "    \n",
    "    # Call create_savings_account and display results\n",
    "    updated_savings_balance, savings_interest_earned = create_savings_account(\n",
    "        savings_balance, savings_interest_rate, savings_months\n",
    "    )\n",
    "    print(f\"Savings Interest Earned: ${savings_interest_earned:.2f}\")\n",
    "    print(f\"Updated Savings Balance: ${updated_savings_balance:.2f}\\n\")\n",
    "    \n",
    "    # Prompt the user for CD account details\n",
    "    print(\"CD Account\")\n",
    "    cd_balance = float(input(\"Enter initial balance: \"))\n",
    "    cd_interest_rate = float(input(\"Enter annual interest rate (in %): \"))\n",
    "    cd_months = int(input(\"Enter number of months: \"))\n",
    "    \n",
    "    # Call create_cd_account and display results\n",
    "    updated_cd_balance, cd_interest_earned = create_cd_account(\n",
    "        cd_balance, cd_interest_rate, cd_months\n",
    "    )\n",
    "    print(f\"CD Interest Earned: ${cd_interest_earned:.2f}\")\n",
    "    print(f\"Updated CD Balance: ${updated_cd_balance:.2f}\")\n",
    "\n",
    "# Run the main function\n",
    "if __name__ == \"__main__\":\n",
    "    main()\n"
   ]
  },
  {
   "cell_type": "code",
   "execution_count": null,
   "id": "07f3ffad-bc62-4d86-b0c3-3da6890fc206",
   "metadata": {},
   "outputs": [],
   "source": []
  }
 ],
 "metadata": {
  "kernelspec": {
   "display_name": "Python 3 (ipykernel)",
   "language": "python",
   "name": "python3"
  },
  "language_info": {
   "codemirror_mode": {
    "name": "ipython",
    "version": 3
   },
   "file_extension": ".py",
   "mimetype": "text/x-python",
   "name": "python",
   "nbconvert_exporter": "python",
   "pygments_lexer": "ipython3",
   "version": "3.11.7"
  }
 },
 "nbformat": 4,
 "nbformat_minor": 5
}

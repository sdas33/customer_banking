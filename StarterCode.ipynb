{
  "nbformat": 4,
  "nbformat_minor": 0,
  "metadata": {
    "colab": {
      "provenance": [],
      "authorship_tag": "ABX9TyPIGFy5B2n8nGSOx2My71bU",
      "include_colab_link": true
    },
    "kernelspec": {
      "name": "python3",
      "display_name": "Python 3"
    },
    "language_info": {
      "name": "python"
    }
  },
  "cells": [
    {
      "cell_type": "markdown",
      "metadata": {
        "id": "view-in-github",
        "colab_type": "text"
      },
      "source": [
        "<a href=\"https://colab.research.google.com/github/sdas33/customer_banking/blob/main/StarterCode.ipynb\" target=\"_parent\"><img src=\"https://colab.research.google.com/assets/colab-badge.svg\" alt=\"Open In Colab\"/></a>"
      ]
    },
    {
      "cell_type": "code",
      "execution_count": null,
      "metadata": {
        "id": "0m6Ruabx895m"
      },
      "outputs": [],
      "source": [
        "# Import necessary modules\n",
        "# Account class definition\n",
        "class Account:\n",
        "    \"\"\"Creating an Account class with methods\"\"\"\n",
        "    def __init__(self, balance, interest):\n",
        "        self.balance = balance\n",
        "        self.interest = interest\n",
        "\n",
        "    # This method sets the balance of the account.\n",
        "    def set_balance(self, balance):\n",
        "        \"\"\"Sets the balance for the account\"\"\"\n",
        "        self.balance = balance\n",
        "\n",
        "    # This method sets the interest gained for the account.\n",
        "    def set_interest(self, interest):\n",
        "        \"\"\"Sets the interest gained for the account\"\"\"\n",
        "        self.interest = interest\n",
        "\n",
        "\n",
        "# Define a function for the Savings Account\n",
        "def create_savings_account(balance, interest_rate, months):\n",
        "    \"\"\"Creates a savings account, calculates interest earned, and updates the account balance.\n",
        "\n",
        "    Args:\n",
        "        balance (float): The initial savings account balance.\n",
        "        interest_rate (float): The APR interest rate for the savings account.\n",
        "        months (int): The length of months to determine the amount of interest.\n",
        "\n",
        "    Returns:\n",
        "        float: The updated savings account balance after adding the interest earned.\n",
        "        And returns the interest earned.\n",
        "    \"\"\"\n",
        "    # ADD YOUR CODE HERE\n",
        "    pass\n",
        "\n",
        "\n",
        "# Define a function for the CD Account\n",
        "def create_cd_account(balance, interest_rate, months):\n",
        "    \"\"\"Creates a CD account, calculates interest earned, and updates the account balance.\n",
        "\n",
        "    Args:\n",
        "        balance (float): The initial CD account balance.\n",
        "        interest_rate (float): The APR interest rate for the CD account.\n",
        "        months (int): The length of months for the CD.\n",
        "\n",
        "    Returns:\n",
        "        float: The updated CD account balance after adding the interest earned.\n",
        "        And returns the interest earned.\n",
        "    \"\"\"\n",
        "    # ADD YOUR CODE HERE\n",
        "    pass\n",
        "\n",
        "\n",
        "# Define the main function\n",
        "def main():\n",
        "    \"\"\"This function prompts the user to enter the savings and CD account balance, interest rate,\n",
        "    and the length of months to determine the interest gained.\n",
        "    It displays the interest earned on the savings and CD accounts and updates the balances.\n",
        "    \"\"\"\n",
        "    # Prompt the user to set the savings balance, interest rate, and months for the savings account.\n",
        "    # ADD YOUR CODE HERE\n",
        "\n",
        "    # Call the create_savings_account function and pass the variables from the user.\n",
        "    # ADD YOUR CODE HERE\n",
        "\n",
        "    # Print out the interest earned and updated savings account balance with interest earned for the given months.\n",
        "    # ADD YOUR CODE HERE\n",
        "\n",
        "    # Prompt the user to set the CD balance, interest rate, and months for the CD account.\n",
        "    # ADD YOUR CODE HERE\n",
        "\n",
        "    # Call the create_cd_account function and pass the variables from the user.\n",
        "    # ADD YOUR CODE HERE\n",
        "\n",
        "    # Print out the interest earned and updated CD account balance with interest earned for the given months.\n",
        "    # ADD YOUR CODE HERE\n",
        "\n",
        "\n",
        "# Ensure the main function runs\n",
        "if __name__ == \"__main__\":\n",
        "    main()\n"
      ]
    }
  ]
}